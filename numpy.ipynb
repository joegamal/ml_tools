{
 "cells": [
  {
   "cell_type": "code",
   "execution_count": 9,
   "id": "f117cfa2",
   "metadata": {},
   "outputs": [],
   "source": [
    "import numpy as np"
   ]
  },
  {
   "cell_type": "code",
   "execution_count": 10,
   "metadata": {},
   "outputs": [
    {
     "name": "stdout",
     "output_type": "stream",
     "text": [
      "(2, 10)\n"
     ]
    }
   ],
   "source": [
    "data = np.array([[1, 2, 3, 4, 5, 6 ,7, 8, 9, 10],\n",
    "                 [1, 2, 3, 4, 5, 6 ,7, 8, 9, 10]])\n",
    "\n",
    "# the numpy arrays are fixed after initialization \n",
    "# the numpy array are homogeneous -> have same data type\n",
    "# numpy arrays are stored in a sequence block of memory\n",
    "\n",
    "print(data.shape)"
   ]
  },
  {
   "cell_type": "code",
   "execution_count": 11,
   "metadata": {},
   "outputs": [
    {
     "name": "stdout",
     "output_type": "stream",
     "text": [
      "int64\n"
     ]
    }
   ],
   "source": [
    "print(data.dtype)"
   ]
  },
  {
   "cell_type": "code",
   "execution_count": 12,
   "id": "44af0f38",
   "metadata": {},
   "outputs": [
    {
     "name": "stdout",
     "output_type": "stream",
     "text": [
      "[[1. 1. 1.]\n",
      " [1. 1. 1.]]\n"
     ]
    }
   ],
   "source": [
    "#create an array of ones np.ones((rows, coloumns))\n",
    "ones = np.ones((2, 3))\n",
    "print(ones)"
   ]
  },
  {
   "cell_type": "code",
   "execution_count": 13,
   "id": "bcefd96d",
   "metadata": {},
   "outputs": [
    {
     "name": "stdout",
     "output_type": "stream",
     "text": [
      "[[0. 0. 0. 0.]\n",
      " [0. 0. 0. 0.]\n",
      " [0. 0. 0. 0.]]\n"
     ]
    }
   ],
   "source": [
    "#create an array of zeros np.zeros((rows, coloumns))\n",
    "\n",
    "zeros = np.zeros((3, 4))\n",
    "print(zeros)"
   ]
  },
  {
   "cell_type": "code",
   "execution_count": 14,
   "id": "16e4a05e",
   "metadata": {},
   "outputs": [
    {
     "name": "stdout",
     "output_type": "stream",
     "text": [
      "[[1. 0. 0. 0. 0.]\n",
      " [0. 1. 0. 0. 0.]\n",
      " [0. 0. 1. 0. 0.]\n",
      " [0. 0. 0. 1. 0.]\n",
      " [0. 0. 0. 0. 1.]]\n"
     ]
    }
   ],
   "source": [
    "#creating an identity matrix np.eye(number)\n",
    "\n",
    "identity = np.eye(5)\n",
    "print(identity)"
   ]
  },
  {
   "cell_type": "code",
   "execution_count": 15,
   "id": "b32b278a",
   "metadata": {},
   "outputs": [
    {
     "name": "stdout",
     "output_type": "stream",
     "text": [
      "[1 3 5 7 9]\n"
     ]
    }
   ],
   "source": [
    "# creating an array from a range np.arange(start, stop , step)\n",
    "\n",
    "ranges = np.arange(1,10,2)\n",
    "print(ranges)"
   ]
  },
  {
   "cell_type": "code",
   "execution_count": 16,
   "id": "c1a8ce1c",
   "metadata": {},
   "outputs": [],
   "source": [
    "#reading a file txt or csv\n",
    "\n",
    "#file = np.loadtxt(\"file_name.csv\",delimiter=',')"
   ]
  },
  {
   "cell_type": "code",
   "execution_count": 17,
   "id": "c37f7ad8",
   "metadata": {},
   "outputs": [],
   "source": [
    "###indexing and slicing numpy array\n",
    "#if it is a 1-d array we use slices like lists\n",
    "#if the array is not one dimentional we use arr[row, col] to access the cell\n",
    "#we can make subarrays from the original array without copying the whole dataframe \n",
    "# we just read from the same memory\n",
    "#notice that any changes to the subarray will affect the original array"
   ]
  },
  {
   "cell_type": "code",
   "execution_count": 18,
   "id": "dabcbbc5",
   "metadata": {},
   "outputs": [
    {
     "name": "stdout",
     "output_type": "stream",
     "text": [
      "the original array is [ 1  2  3  4  5  6  7  8  9 10]\n"
     ]
    }
   ],
   "source": [
    "num_array = np.array([1, 2, 3, 4, 5, 6, 7, 8, 9, 10])\n",
    "\n",
    "print( f\"the original array is {num_array}\" )"
   ]
  },
  {
   "cell_type": "code",
   "execution_count": 19,
   "id": "1c212e53",
   "metadata": {},
   "outputs": [
    {
     "name": "stdout",
     "output_type": "stream",
     "text": [
      "[3 4 5]\n"
     ]
    }
   ],
   "source": [
    "#indexing the array\n",
    "\n",
    "print(num_array[2:5])"
   ]
  },
  {
   "cell_type": "code",
   "execution_count": 20,
   "id": "56e12273",
   "metadata": {},
   "outputs": [
    {
     "name": "stdout",
     "output_type": "stream",
     "text": [
      "[3 4 5]\n"
     ]
    }
   ],
   "source": [
    "#slicing the array\n",
    "\n",
    "slice_array = num_array[2:5]\n",
    "\n",
    "print(slice_array)"
   ]
  },
  {
   "cell_type": "code",
   "execution_count": 24,
   "id": "ad4a6bce",
   "metadata": {},
   "outputs": [
    {
     "name": "stdout",
     "output_type": "stream",
     "text": [
      "addition [12 15 18]\n",
      "subtraction [6 6 6]\n",
      "multplication [ 4 10 18]\n",
      "division [7. 4. 3.]\n"
     ]
    }
   ],
   "source": [
    "first = np.array([1, 2, 3])\n",
    "sec = np.array([4, 5, 6])\n",
    "third = np.array([7, 8, 9])\n",
    "\n",
    "#addition\n",
    "print(f\"addition {first + sec + third}\")\n",
    "\n",
    "#subtraction\n",
    "print(f\"subtraction {third - first}\")\n",
    "\n",
    "#mulitplication\n",
    "print(f\"multplication {sec * first}\")\n",
    "\n",
    "#divistion\n",
    "print(f\"division {third / first}\")\n"
   ]
  },
  {
   "cell_type": "code",
   "execution_count": 25,
   "id": "912d3eb9",
   "metadata": {},
   "outputs": [
    {
     "name": "stdout",
     "output_type": "stream",
     "text": [
      "mask [False False  True  True False]\n",
      "filtered array elements >2 and <5: [3 4]\n",
      "modified array: [ 1  2  3 10 10]\n"
     ]
    }
   ],
   "source": [
    "#boolean indexing and masking\n",
    "\n",
    "a = np.array([1, 2, 3, 4, 5])\n",
    "\n",
    "mask = (a > 2) & (a < 5)\n",
    "\n",
    "filtered_array = a[mask]\n",
    "\n",
    "print(f\"mask {mask}\")\n",
    "\n",
    "print(f\"filtered array elements >2 and <5: {filtered_array}\")\n",
    "\n",
    "\n",
    "#modifying elements based on condition \n",
    "a[a > 3] = 10\n",
    "print(f\"modified array: {a}\")"
   ]
  }
 ],
 "metadata": {
  "kernelspec": {
   "display_name": "ml-tools-venv",
   "language": "python",
   "name": "python3"
  },
  "language_info": {
   "codemirror_mode": {
    "name": "ipython",
    "version": 3
   },
   "file_extension": ".py",
   "mimetype": "text/x-python",
   "name": "python",
   "nbconvert_exporter": "python",
   "pygments_lexer": "ipython3",
   "version": "3.12.3"
  }
 },
 "nbformat": 4,
 "nbformat_minor": 5
}
