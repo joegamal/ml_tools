{
 "cells": [
  {
   "cell_type": "code",
   "execution_count": 2,
   "id": "f117cfa2",
   "metadata": {},
   "outputs": [],
   "source": [
    "import numpy as np"
   ]
  },
  {
   "cell_type": "code",
   "execution_count": null,
   "metadata": {},
   "outputs": [
    {
     "name": "stdout",
     "output_type": "stream",
     "text": [
      "(2, 10)\n"
     ]
    }
   ],
   "source": [
    "data = np.array([[1, 2, 3, 4, 5, 6 ,7, 8, 9, 10],\n",
    "                 [1, 2, 3, 4, 5, 6 ,7, 8, 9, 10]])\n",
    "\n",
    "# the numpy arrays are fixed after initialization \n",
    "# the numpy array are homogeneous -> have same data type\n",
    "# numpy arrays are stored in a sequence block of memory\n",
    "\n",
    "print(data.shape)"
   ]
  },
  {
   "cell_type": "code",
   "execution_count": 5,
   "metadata": {},
   "outputs": [
    {
     "name": "stdout",
     "output_type": "stream",
     "text": [
      "int64\n"
     ]
    }
   ],
   "source": [
    "print(data.dtype)"
   ]
  },
  {
   "cell_type": "code",
   "execution_count": 9,
   "id": "44af0f38",
   "metadata": {},
   "outputs": [
    {
     "name": "stdout",
     "output_type": "stream",
     "text": [
      "[[1. 1. 1.]\n",
      " [1. 1. 1.]]\n"
     ]
    }
   ],
   "source": [
    "#create an array of ones np.ones((rows, coloumns))\n",
    "ones = np.ones((2, 3))\n",
    "print(ones)"
   ]
  },
  {
   "cell_type": "code",
   "execution_count": 10,
   "id": "bcefd96d",
   "metadata": {},
   "outputs": [
    {
     "name": "stdout",
     "output_type": "stream",
     "text": [
      "[[0. 0. 0. 0.]\n",
      " [0. 0. 0. 0.]\n",
      " [0. 0. 0. 0.]]\n"
     ]
    }
   ],
   "source": [
    "#create an array of zeros np.zeros((rows, coloumns))\n",
    "\n",
    "zeros = np.zeros((3, 4))\n",
    "print(zeros)"
   ]
  },
  {
   "cell_type": "code",
   "execution_count": null,
   "id": "16e4a05e",
   "metadata": {},
   "outputs": [
    {
     "name": "stdout",
     "output_type": "stream",
     "text": [
      "[[1. 0. 0. 0. 0.]\n",
      " [0. 1. 0. 0. 0.]\n",
      " [0. 0. 1. 0. 0.]\n",
      " [0. 0. 0. 1. 0.]\n",
      " [0. 0. 0. 0. 1.]]\n"
     ]
    }
   ],
   "source": [
    "#creating an identity matrix np.eye(number)\n",
    "\n",
    "identity = np.eye(5)\n",
    "print(identity)"
   ]
  },
  {
   "cell_type": "code",
   "execution_count": 12,
   "id": "b32b278a",
   "metadata": {},
   "outputs": [
    {
     "name": "stdout",
     "output_type": "stream",
     "text": [
      "[1 3 5 7 9]\n"
     ]
    }
   ],
   "source": [
    "# creating an array from a range np.arange(start, stop , step)\n",
    "\n",
    "ranges = np.arange(1,10,2)\n",
    "print(ranges)"
   ]
  },
  {
   "cell_type": "code",
   "execution_count": 14,
   "id": "c1a8ce1c",
   "metadata": {},
   "outputs": [],
   "source": [
    "#reading a file txt or csv\n",
    "\n",
    "#file = np.loadtxt(\"file_name.csv\",None ,\",\")"
   ]
  },
  {
   "cell_type": "code",
   "execution_count": null,
   "id": "c37f7ad8",
   "metadata": {},
   "outputs": [],
   "source": []
  }
 ],
 "metadata": {
  "kernelspec": {
   "display_name": "ml-tools-venv",
   "language": "python",
   "name": "python3"
  },
  "language_info": {
   "codemirror_mode": {
    "name": "ipython",
    "version": 3
   },
   "file_extension": ".py",
   "mimetype": "text/x-python",
   "name": "python",
   "nbconvert_exporter": "python",
   "pygments_lexer": "ipython3",
   "version": "3.12.3"
  }
 },
 "nbformat": 4,
 "nbformat_minor": 5
}
